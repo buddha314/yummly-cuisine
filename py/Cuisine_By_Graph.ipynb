{
 "cells": [
  {
   "cell_type": "markdown",
   "metadata": {},
   "source": [
    "# Graph-Based Cuisine Predictor\n",
    "\n",
    "some interesting questions about graph-based methods"
   ]
  },
  {
   "cell_type": "code",
   "execution_count": 1,
   "metadata": {
    "collapsed": true
   },
   "outputs": [],
   "source": [
    "import numpy\n",
    "import igraph\n",
    "import json"
   ]
  },
  {
   "cell_type": "code",
   "execution_count": 2,
   "metadata": {
    "collapsed": true
   },
   "outputs": [],
   "source": [
    "#test_data_f = \"/datasets/recipe-kaggle/test.json\"\n",
    "#train_data_f = \"/datasets/recipe-kaggle/train.json\"\n",
    "test_data_f = \"/home/buddha314/datasets/yummly/test.json\"\n",
    "train_data_f = \"/home/buddha314/datasets/yummly/train.json\""
   ]
  },
  {
   "cell_type": "code",
   "execution_count": 3,
   "metadata": {},
   "outputs": [],
   "source": [
    "with open(train_data_f) as f:\n",
    "    test_data = json.load(f)"
   ]
  },
  {
   "cell_type": "code",
   "execution_count": 12,
   "metadata": {},
   "outputs": [],
   "source": [
    "ingredients = set()\n",
    "cuisines = set()\n",
    "edges = set()\n",
    "for x in test_data:\n",
    "    cuisines = cuisines.union(x['cuisine'].encode('utf-8').strip())\n",
    "    ingredients = ingredients.union(set([y.encode('utf-8').strip() for y in x['ingredients']]))\n",
    "    for i in x['ingredients']:\n",
    "        fr = i.encode('utf-8').strip()\n",
    "        for j in x['ingredients']:\n",
    "            to = j.encode('utf-8').strip()\n",
    "            if i != j:\n",
    "                edges.add((list(ingredients).index(fr),list(ingredients).index(to) ))\n"
   ]
  },
  {
   "cell_type": "code",
   "execution_count": 15,
   "metadata": {},
   "outputs": [
    {
     "data": {
      "text/plain": [
       "[b'granola', b'puff pastry', b'rye flour', b'soursop', b'potato gnocchi']"
      ]
     },
     "execution_count": 15,
     "metadata": {},
     "output_type": "execute_result"
    }
   ],
   "source": [
    "list(ingredients)[0:5]"
   ]
  },
  {
   "cell_type": "code",
   "execution_count": 16,
   "metadata": {},
   "outputs": [
    {
     "data": {
      "text/plain": [
       "6714"
      ]
     },
     "execution_count": 16,
     "metadata": {},
     "output_type": "execute_result"
    }
   ],
   "source": [
    "len(ingredients)"
   ]
  },
  {
   "cell_type": "code",
   "execution_count": 13,
   "metadata": {},
   "outputs": [],
   "source": [
    "ef = open('edges.txt', 'w')\n",
    "for e in edges:\n",
    "    ef.write(\"%s\\t%s\\n\" % (e[0], e[1]))"
   ]
  },
  {
   "cell_type": "code",
   "execution_count": 46,
   "metadata": {},
   "outputs": [
    {
     "data": {
      "text/plain": [
       "[u'low-sodium fat-free chicken broth',\n",
       " u'sweetened coconut',\n",
       " u'veget soup mix',\n",
       " u'round steaks',\n",
       " u'baking chocolate',\n",
       " u'Barilla Plus Pasta',\n",
       " u'asian',\n",
       " u'chicken flavor stuffing mix',\n",
       " u'cummin',\n",
       " u'tandoori spices']"
      ]
     },
     "execution_count": 46,
     "metadata": {},
     "output_type": "execute_result"
    }
   ],
   "source": [
    "g = igraph.Graph()\n",
    "g.add_vertices(len(ingredients))\n",
    "g.vs[\"names\"] = list(ingredients)\n",
    "g.vs[\"names\"][0:10]"
   ]
  },
  {
   "cell_type": "code",
   "execution_count": 48,
   "metadata": {
    "collapsed": true
   },
   "outputs": [],
   "source": [
    "g.add_edges(edges)"
   ]
  },
  {
   "cell_type": "code",
   "execution_count": 26,
   "metadata": {},
   "outputs": [],
   "source": [
    "ings = open(\"ingredients.txt\", \"w\")\n",
    "for i in list(ingredients):\n",
    "    #x = i.encode('utf-8').strip()\n",
    "    #print(\"%s\\t%s\\t\" % ((list(ingredients).index(i), i)))\n",
    "    ings.write(\"%s\\t%s\\n\" % ((list(ingredients).index(i), str(i))))"
   ]
  },
  {
   "cell_type": "code",
   "execution_count": 20,
   "metadata": {},
   "outputs": [
    {
     "data": {
      "text/plain": [
       "bytes"
      ]
     },
     "execution_count": 20,
     "metadata": {},
     "output_type": "execute_result"
    }
   ],
   "source": [
    "type(list(ingredients)[0])"
   ]
  },
  {
   "cell_type": "code",
   "execution_count": 22,
   "metadata": {},
   "outputs": [
    {
     "data": {
      "text/plain": [
       "b\"b'granola'\""
      ]
     },
     "execution_count": 22,
     "metadata": {},
     "output_type": "execute_result"
    }
   ],
   "source": [
    "str(list(ingredients)[0]).encode('utf-8')"
   ]
  },
  {
   "cell_type": "code",
   "execution_count": null,
   "metadata": {
    "collapsed": true
   },
   "outputs": [],
   "source": []
  }
 ],
 "metadata": {
  "kernelspec": {
   "display_name": "Python 2",
   "language": "python",
   "name": "python2"
  },
  "language_info": {
   "codemirror_mode": {
    "name": "ipython",
    "version": 3
   },
   "file_extension": ".py",
   "mimetype": "text/x-python",
   "name": "python",
   "nbconvert_exporter": "python",
   "pygments_lexer": "ipython3",
   "version": "3.5.3"
  }
 },
 "nbformat": 4,
 "nbformat_minor": 1
}
