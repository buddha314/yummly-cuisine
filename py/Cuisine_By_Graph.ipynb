{
 "cells": [
  {
   "cell_type": "markdown",
   "metadata": {},
   "source": [
    "# Graph-Based Cuisine Predictor\n",
    "\n",
    "some interesting questions about graph-based methods"
   ]
  },
  {
   "cell_type": "code",
   "execution_count": 6,
   "metadata": {
    "collapsed": true
   },
   "outputs": [],
   "source": [
    "import numpy\n",
    "import igraph\n",
    "import json"
   ]
  },
  {
   "cell_type": "code",
   "execution_count": 4,
   "metadata": {
    "collapsed": true
   },
   "outputs": [],
   "source": [
    "test_data_f = \"/datasets/recipe-kaggle/test.json\"\n",
    "train_data_f = \"/datasets/recipe-kaggle/train.json\""
   ]
  },
  {
   "cell_type": "code",
   "execution_count": 9,
   "metadata": {
    "collapsed": false
   },
   "outputs": [],
   "source": [
    "with open(train_data_f) as f:\n",
    "    test_data = json.load(f)"
   ]
  },
  {
   "cell_type": "code",
   "execution_count": 18,
   "metadata": {
    "collapsed": false
   },
   "outputs": [],
   "source": [
    "ingredients = set()\n",
    "cuisines = set()\n",
    "edges = set()\n",
    "for x in test_data:\n",
    "    cuisines = cuisines.union(x['cuisine'])\n",
    "    ingredients = ingredients.union(set(x['ingredients']))\n",
    "    for i in x['ingredients']:\n",
    "        for j in x['ingredients']:\n",
    "            if i != j:\n",
    "                edges.add((list(ingredients).index(i),list(ingredients).index(j) ))"
   ]
  },
  {
   "cell_type": "code",
   "execution_count": 16,
   "metadata": {
    "collapsed": false
   },
   "outputs": [
    {
     "data": {
      "text/plain": [
       "6714"
      ]
     },
     "execution_count": 16,
     "metadata": {},
     "output_type": "execute_result"
    }
   ],
   "source": [
    "len(ings)"
   ]
  },
  {
   "cell_type": "code",
   "execution_count": 19,
   "metadata": {
    "collapsed": false
   },
   "outputs": [
    {
     "data": {
      "text/plain": [
       "4482736"
      ]
     },
     "execution_count": 19,
     "metadata": {},
     "output_type": "execute_result"
    }
   ],
   "source": [
    "len(edges)"
   ]
  },
  {
   "cell_type": "code",
   "execution_count": 24,
   "metadata": {
    "collapsed": false
   },
   "outputs": [],
   "source": [
    "ef = open('edges.txt', 'w')\n",
    "for e in edges:\n",
    "    ef.write(\"%s\\t%s\\n\" % (e[0], e[1]))"
   ]
  },
  {
   "cell_type": "code",
   "execution_count": 46,
   "metadata": {
    "collapsed": false
   },
   "outputs": [
    {
     "data": {
      "text/plain": [
       "[u'low-sodium fat-free chicken broth',\n",
       " u'sweetened coconut',\n",
       " u'veget soup mix',\n",
       " u'round steaks',\n",
       " u'baking chocolate',\n",
       " u'Barilla Plus Pasta',\n",
       " u'asian',\n",
       " u'chicken flavor stuffing mix',\n",
       " u'cummin',\n",
       " u'tandoori spices']"
      ]
     },
     "execution_count": 46,
     "metadata": {},
     "output_type": "execute_result"
    }
   ],
   "source": [
    "g = igraph.Graph()\n",
    "g.add_vertices(len(ingredients))\n",
    "g.vs[\"names\"] = list(ingredients)\n",
    "g.vs[\"names\"][0:10]"
   ]
  },
  {
   "cell_type": "code",
   "execution_count": 48,
   "metadata": {
    "collapsed": true
   },
   "outputs": [],
   "source": [
    "g.add_edges(edges)"
   ]
  },
  {
   "cell_type": "code",
   "execution_count": 58,
   "metadata": {
    "collapsed": false
   },
   "outputs": [
    {
     "name": "stdout",
     "output_type": "stream",
     "text": [
      "0\tlow-sodium fat-free chicken broth\t\n",
      "1\tsweetened coconut\t\n",
      "2\tveget soup mix\t\n",
      "3\tround steaks\t\n",
      "4\tbaking chocolate\t\n",
      "5\tBarilla Plus Pasta\t\n",
      "6\tasian\t\n",
      "7\tchicken flavor stuffing mix\t\n",
      "8\tcummin\t\n",
      "9\ttandoori spices\t\n",
      "10\tbucatini\t\n",
      "11\tblack garlic\t\n",
      "12\torganic butter\t\n",
      "13\treduced fat italian dressing\t\n",
      "14\tegg roll wrappers\t\n",
      "15\tpancetta\t\n",
      "16\tbottled low sodium salsa\t\n",
      "17\tvegan parmesan cheese\t\n",
      "18\tbiscuit baking mix\t\n",
      "19\tlarge curd cottage cheese\t\n",
      "20\tcubed pancetta\t\n",
      "21\twhole wheat pizza crust\t\n",
      "22\tclam sauce\t\n",
      "23\tmahlab\t\n",
      "24\t(10 oz.) frozen chopped spinach, thawed and squeezed dry\t\n",
      "25\tfigs\t\n",
      "26\tcaramels\t\n",
      "27\tshortbread cookies\t\n",
      "28\tbroiler\t\n",
      "29\tpure olive oil\t\n",
      "30\tpigeon peas\t\n",
      "31\tjalapeno chilies\t\n",
      "32\tchambord\t\n",
      "33\t(15 oz.) refried beans\t\n",
      "34\tregular chicken broth\t\n",
      "35\tbrioche buns\t\n",
      "36\tlamb seasoning\t\n",
      "37\tbroccoli romanesco\t\n",
      "38\tflaked oats\t\n",
      "39\tanise extract\t\n",
      "40\twhole wheat pastry flour\t\n",
      "41\tshredded pepper jack cheese\t\n",
      "42\tchocolate drink\t\n",
      "43\travva\t\n",
      "44\tgarland chrysanthemum\t\n",
      "45\tbacon\t\n",
      "46\tlavender\t\n",
      "47\tmillet\t\n",
      "48\tcold meatloaf\t\n",
      "49\tbaked tortilla chips\t\n",
      "50\tsoppressata\t\n",
      "51\tmatcha green tea powder\t\n",
      "52\tsweet white miso\t\n",
      "53\tchopped fresh thyme\t\n",
      "54\tchicken gravy mix\t\n",
      "55\twalnut oil\t\n",
      "56\tpomegranate molasses\t\n",
      "57\tnatural low-fat yogurt\t\n",
      "58\tKraft Slim Cut Mozzarella Cheese Slices\t\n",
      "59\tsmoked turkey sausage\t\n",
      "60\tfresh angel hair\t\n",
      "61\tgraham cracker crusts\t\n",
      "62\tmini phyllo dough shells\t\n",
      "63\therb seasoning\t\n",
      "64\tsalsify\t\n",
      "65\tgalangal\t\n",
      "66\talbacore\t\n",
      "67\tpancake batter\t\n",
      "68\tpizza seasoning\t\n",
      "69\tchicken schmaltz\t\n",
      "70\tbutter crackers\t\n",
      "71\tcurrant jelly\t\n",
      "72\tjasmine\t\n",
      "73\tkewra\t\n",
      "74\tbroccolini\t\n",
      "75\tBisquick Baking Mix\t\n",
      "76\tpearl rice\t\n",
      "77\tcinnamon graham crackers\t\n",
      "78\tcanned jalapeno peppers\t\n",
      "79\tblack grapes\t\n",
      "80\tground cayenne pepper\t\n",
      "81\torange soda\t\n",
      "82\tchopmeat\t\n",
      "83\tpork sirloin roast\t\n",
      "84\tcalamansi juice\t\n",
      "85\tsmoked haddock\t\n",
      "86\tlong green chilies\t\n"
     ]
    },
    {
     "name": "stderr",
     "output_type": "stream",
     "text": [
      "/Library/Python/2.7/site-packages/ipykernel/__main__.py:4: UnicodeWarning: Unicode equal comparison failed to convert both arguments to Unicode - interpreting them as being unequal\n"
     ]
    },
    {
     "ename": "ValueError",
     "evalue": "'kahl\\xc3\\xbaa' is not in list",
     "output_type": "error",
     "traceback": [
      "\u001b[0;31m---------------------------------------------------------------------------\u001b[0m",
      "\u001b[0;31mValueError\u001b[0m                                Traceback (most recent call last)",
      "\u001b[0;32m<ipython-input-58-a23183364ccc>\u001b[0m in \u001b[0;36m<module>\u001b[0;34m()\u001b[0m\n\u001b[1;32m      2\u001b[0m \u001b[0;32mfor\u001b[0m \u001b[0mi\u001b[0m \u001b[0;32min\u001b[0m \u001b[0mingredients\u001b[0m\u001b[0;34m:\u001b[0m\u001b[0;34m\u001b[0m\u001b[0m\n\u001b[1;32m      3\u001b[0m     \u001b[0mx\u001b[0m \u001b[0;34m=\u001b[0m \u001b[0mi\u001b[0m\u001b[0;34m.\u001b[0m\u001b[0mencode\u001b[0m\u001b[0;34m(\u001b[0m\u001b[0;34m'utf-8'\u001b[0m\u001b[0;34m)\u001b[0m\u001b[0;34m.\u001b[0m\u001b[0mstrip\u001b[0m\u001b[0;34m(\u001b[0m\u001b[0;34m)\u001b[0m\u001b[0;34m\u001b[0m\u001b[0m\n\u001b[0;32m----> 4\u001b[0;31m     \u001b[0;32mprint\u001b[0m\u001b[0;34m(\u001b[0m\u001b[0;34m\"%s\\t%s\\t\"\u001b[0m \u001b[0;34m%\u001b[0m \u001b[0;34m(\u001b[0m\u001b[0;34m(\u001b[0m\u001b[0mlist\u001b[0m\u001b[0;34m(\u001b[0m\u001b[0mingredients\u001b[0m\u001b[0;34m)\u001b[0m\u001b[0;34m.\u001b[0m\u001b[0mindex\u001b[0m\u001b[0;34m(\u001b[0m\u001b[0mx\u001b[0m\u001b[0;34m)\u001b[0m\u001b[0;34m,\u001b[0m \u001b[0mx\u001b[0m\u001b[0;34m)\u001b[0m\u001b[0;34m)\u001b[0m\u001b[0;34m)\u001b[0m\u001b[0;34m\u001b[0m\u001b[0m\n\u001b[0m\u001b[1;32m      5\u001b[0m     \u001b[0;31m#ings.write(\"%s\\t%s\\t\" % (str(list(ingredients).index(str(i))), str(i)))\u001b[0m\u001b[0;34m\u001b[0m\u001b[0;34m\u001b[0m\u001b[0m\n",
      "\u001b[0;31mValueError\u001b[0m: 'kahl\\xc3\\xbaa' is not in list"
     ]
    }
   ],
   "source": [
    "ings = open(\"ingredients.txt\", \"w\")\n",
    "for i in ingredients:\n",
    "    x = i.encode('utf-8').strip()\n",
    "    print(\"%s\\t%s\\t\" % ((list(ingredients).index(x), x)))\n",
    "    #ings.write(\"%s\\t%s\\t\" % (str(list(ingredients).index(str(i))), str(i)))"
   ]
  },
  {
   "cell_type": "code",
   "execution_count": null,
   "metadata": {
    "collapsed": true
   },
   "outputs": [],
   "source": []
  }
 ],
 "metadata": {
  "kernelspec": {
   "display_name": "Python 2",
   "language": "python",
   "name": "python2"
  },
  "language_info": {
   "codemirror_mode": {
    "name": "ipython",
    "version": 2
   },
   "file_extension": ".py",
   "mimetype": "text/x-python",
   "name": "python",
   "nbconvert_exporter": "python",
   "pygments_lexer": "ipython2",
   "version": "2.7.10"
  }
 },
 "nbformat": 4,
 "nbformat_minor": 0
}
