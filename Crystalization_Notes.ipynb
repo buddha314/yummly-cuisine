{
 "cells": [
  {
   "cell_type": "markdown",
   "metadata": {},
   "source": [
    "# Crystalization Notes\n",
    "\n",
    "## 2017-10-09\n",
    "Should have started this weeks ago.  Anyway, the idea is that we can use a variant of [this PPT by Cho](http://web.ecs.baylor.edu/faculty/cho/Cho-Entropy.pdf) to subgraphs of minimal energy.  \n",
    "\n",
    "The ultimate goal is to take a patients CUI set and find the maximally fitting set of conditions for them.  The conditions should initially be informed by the \"Conditions\" listed with the CT.gov dataset, but at some point we'll let users construct their own.\n",
    "\n",
    "\n",
    "### Recipe Reconstruction\n",
    "The [Yummly Data](https://www.kaggle.com/c/whats-cooking) seems a nice analogy.  They provide a three-tiered data set that includes \"Cuisine > Recipe > Ingredients\".  [This guy](https://github.com/Btibert3/kaggle-yummly) tried it in Neo4j. The Recipe is just an idea. The intent of the competition was to be able to predict the cuisine given just the ingredients.  However, in our analogy I want to find the \"maximally fitting\" recipe for a given set of ingredients.  We don't have labels for this, so I don't have the success metric yet.\n",
    "\n",
    "I took a set of about 124 recipes to run the minimal energy routine on.  Unfortunately, I messed up the code and I mistook it for not doing the minimization.  Specifically, I we returning the size of `cupboard` which is just the set of ingredient ids instead of returning the output of `minEnergy`.  To solve the problem I didn't have, I created the `knockout` routine, which removes a few ingredients from each recipe before it gets sent in for minimization.\n",
    "\n",
    "The `knockout` routine may or may not be causing very small crystals.  I'm running some metrics on that now.  However, `knockout` isn't necessary right now since the error never really existed.\n",
    "\n",
    "I think one of the issues it that the crystals are small because the data set is not very connected. In the 124 set, we don't get much coverage of any one cuisine, and though I'm not sure how to test it, I'm thinking highly specific ingredients are experiencing very low degrees.\n",
    "\n",
    "I still feel confident the method will be informative, but it's not being as cooperative as I'd like.\n",
    "\n",
    "Today, I think I'm going to try to extract all \"Italian\" recipes or something like that.  Actually, I should probably pull the whole thing into Postgres so I can sub-set as needed."
   ]
  },
  {
   "cell_type": "markdown",
   "metadata": {},
   "source": [
    "```\n",
    "DROP TABLE IF EXISTS r.yummly;\n",
    "CREATE TABLE r.yummly\n",
    "(cuisine text\n",
    ", recipe int\n",
    ", ingredient text\n",
    ");\n",
    "\\copy r.yummly from yummly.txt \n",
    "```"
   ]
  },
  {
   "cell_type": "markdown",
   "metadata": {},
   "source": [
    "### SQL EDA\n",
    "\n",
    "```\n",
    "select cuisine, count(distinct(recipe)), count(distinct(ingredient)) \n",
    "from r.yummly \n",
    "group by 1 \n",
    "order by 1;\n",
    "\n",
    "   cuisine    | count | count\n",
    "--------------+-------+-------\n",
    " brazilian    |   467 |   853\n",
    " british      |   804 |  1166\n",
    " cajun_creole |  1546 |  1576\n",
    " chinese      |  2673 |  1792\n",
    " filipino     |   755 |   947\n",
    " french       |  2646 |  2102\n",
    " greek        |  1175 |  1198\n",
    " indian       |  3003 |  1664\n",
    " irish        |   667 |   999\n",
    " italian      |  7838 |  2929\n",
    " jamaican     |   526 |   877\n",
    " japanese     |  1423 |  1439\n",
    " korean       |   830 |   898\n",
    " mexican      |  6438 |  2684\n",
    " moroccan     |   821 |   974\n",
    " russian      |   489 |   872\n",
    " southern_us  |  4320 |  2462\n",
    " spanish      |   989 |  1263\n",
    " thai         |  1539 |  1376\n",
    " vietnamese   |   825 |  1108\n",
    "```"
   ]
  },
  {
   "cell_type": "code",
   "execution_count": null,
   "metadata": {
    "collapsed": true
   },
   "outputs": [],
   "source": []
  }
 ],
 "metadata": {
  "kernelspec": {
   "display_name": "Python 2",
   "language": "python",
   "name": "python2"
  },
  "language_info": {
   "codemirror_mode": {
    "name": "ipython",
    "version": 2
   },
   "file_extension": ".py",
   "mimetype": "text/x-python",
   "name": "python",
   "nbconvert_exporter": "python",
   "pygments_lexer": "ipython2",
   "version": "2.7.10"
  }
 },
 "nbformat": 4,
 "nbformat_minor": 0
}
